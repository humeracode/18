{
  "nbformat": 4,
  "nbformat_minor": 0,
  "metadata": {
    "colab": {
      "provenance": [],
      "include_colab_link": true
    },
    "kernelspec": {
      "name": "python3",
      "display_name": "Python 3"
    },
    "language_info": {
      "name": "python"
    }
  },
  "cells": [
    {
      "cell_type": "markdown",
      "metadata": {
        "id": "view-in-github",
        "colab_type": "text"
      },
      "source": [
        "<a href=\"https://colab.research.google.com/github/humeracode/18/blob/main/DSCM17L6ACP.ipynb\" target=\"_parent\"><img src=\"https://colab.research.google.com/assets/colab-badge.svg\" alt=\"Open In Colab\"/></a>"
      ]
    },
    {
      "cell_type": "code",
      "metadata": {
        "id": "TEIG6WGHS3qy"
      },
      "source": [
        "import matplotlib.pyplot as plt\n",
        "import numpy as np\n",
        "from sklearn import linear_model\n",
        "from sklearn.metrics import mean_squared_error, r2_score"
      ],
      "execution_count": null,
      "outputs": []
    },
    {
      "cell_type": "code",
      "metadata": {
        "id": "qTzF8R2BS9r0"
      },
      "source": [
        "X_train = np.array([0,1,2,3,4,5,6,7,8,9]).reshape(-1, 1)\n",
        "y_train = np.array([0,0.5,1,1.5,2,2.5,3,3.5,4,4.5])\n",
        "X_test =  np.array([10,11,12,13,14]).reshape(-1, 1)\n",
        "y_test =  np.array([5,5.5,7,6.5,7])"
      ],
      "execution_count": null,
      "outputs": []
    },
    {
      "cell_type": "code",
      "metadata": {
        "colab": {
          "base_uri": "https://localhost:8080/",
          "height": 551
        },
        "id": "mWXFYsKuTGFF",
        "outputId": "3b409254-e682-415a-e42d-7b4ae17bae78"
      },
      "source": [
        "# Create linear regression object\n",
        "regr = linear_model.LinearRegression()\n",
        "\n",
        "# Train the model using the training sets\n",
        "regr.fit(X_train, y_train)\n",
        "\n",
        "# Make predictions using the testing set\n",
        "y_pred = regr.predict(X_test)\n",
        "\n",
        "# The coefficients\n",
        "print('Coefficients: \\n', regr.coef_)\n",
        "# The mean squared error\n",
        "print('Mean squared error: %.2f'\n",
        "      % mean_squared_error(y_test, y_pred))\n",
        "# The coefficient of determination: 1 is perfect prediction\n",
        "print('Coefficient of determination: %.2f'\n",
        "      % r2_score(y_test, y_pred))\n",
        "\n",
        "# Plot outputs\n",
        "plt.figure(figsize=(12, 8))\n",
        "plt.scatter(X_test, y_test,  color='black', alpha = 0.5)\n",
        "plt.plot(X_test, y_pred, color='red', linewidth=3, alpha = 0.8)\n",
        "\n",
        "plt.show()"
      ],
      "execution_count": null,
      "outputs": [
        {
          "output_type": "stream",
          "name": "stdout",
          "text": [
            "Coefficients: \n",
            " [0.5]\n",
            "Mean squared error: 0.20\n",
            "Coefficient of determination: 0.70\n"
          ]
        },
        {
          "output_type": "display_data",
          "data": {
            "image/png": "[encoded data removed]",
            "text/plain": [
              "<Figure size 864x576 with 1 Axes>"
            ]
          },
          "metadata": {
            "needs_background": "light"
          }
        }
      ]
    },
    {
      "cell_type": "code",
      "metadata": {
        "colab": {
          "base_uri": "https://localhost:8080/"
        },
        "id": "Iw_bGuBwTIKB",
        "outputId": "7c681828-e833-48f9-de3f-b4bbd4962a28"
      },
      "source": [
        "# mean square error\n",
        "np.square(y_test - y_pred).mean()"
      ],
      "execution_count": null,
      "outputs": [
        {
          "output_type": "execute_result",
          "data": {
            "text/plain": [
              "0.1999999999999993"
            ]
          },
          "metadata": {},
          "execution_count": 4
        }
      ]
    },
    {
      "cell_type": "code",
      "metadata": {
        "colab": {
          "base_uri": "https://localhost:8080/"
        },
        "id": "0tfHH_dmTKfs",
        "outputId": "bac1a076-f28f-4296-beba-aa422c7da84f"
      },
      "source": [
        "# R^2\n",
        "1-(np.square(y_test - y_pred).sum())/np.square(y_test - y_test.mean()).sum()"
      ],
      "execution_count": null,
      "outputs": [
        {
          "output_type": "execute_result",
          "data": {
            "text/plain": [
              "0.696969696969698"
            ]
          },
          "metadata": {},
          "execution_count": 5
        }
      ]
    },
    {
      "cell_type": "code",
      "metadata": {
        "id": "XKjmCqxgTM1i"
      },
      "source": [],
      "execution_count": null,
      "outputs": []
    }
  ]
}